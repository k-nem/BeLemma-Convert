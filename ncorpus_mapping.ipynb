{
 "cells": [
  {
   "cell_type": "markdown",
   "id": "21afe8ca-29dc-4aa0-ac34-99e9ef13846b",
   "metadata": {},
   "source": [
    "# About"
   ]
  },
  {
   "cell_type": "markdown",
   "id": "31aad086-b647-40fb-9787-bc72c40a0c3f",
   "metadata": {},
   "source": [
    "Preparing data for its use in a Python Belarusian lemmatizer package:\n",
    "- Reading files, exploration\n",
    "- Understanding the source's markup rules\n",
    "- Cleaning data and converting it into Python-compatible JSON format"
   ]
  },
  {
   "cell_type": "markdown",
   "id": "81a1da57-19b0-4533-8ab3-1cbdc323ee03",
   "metadata": {},
   "source": [
    "## Sources"
   ]
  },
  {
   "cell_type": "markdown",
   "id": "b9742130-9be5-4f8e-9916-4cb870f326e3",
   "metadata": {},
   "source": [
    "- Data source: [GrammarDB (RELEASE-202309) on GitHub [↗︎]](https://github.com/Belarus/GrammarDB/releases)\n",
    "- Accompanying publication: [Граматычная база беларускай мовы / уклад. Уладзімір Кошчанка, Алесь Булойчык [↗︎]](https://www.academia.edu/60297156/%D0%93%D1%80%D0%B0%D0%BC%D0%B0%D1%82%D1%8B%D1%87%D0%BD%D0%B0%D1%8F_%D0%B1%D0%B0%D0%B7%D0%B0_%D0%B1%D0%B5%D0%BB%D0%B0%D1%80%D1%83%D1%81%D0%BA%D0%B0%D0%B9_%D0%BC%D0%BE%D0%B2%D1%8B_Belarusian_Language_Grammar_Database)"
   ]
  },
  {
   "cell_type": "markdown",
   "id": "16d79530-ec00-494d-a4b6-220da6a58197",
   "metadata": {},
   "source": [
    "Original data sample:\n",
    "```\n",
    "<Wordlist>\n",
    "    <Paradigm pdgId=\"1195935\" lemma=\"нарка+маўскі\" tag=\"ARP\">\n",
    "        <Variant id=\"a\" lemma=\"нарка+маўскі\" slouniki=\"piskunou2012:107411\" pravapis=\"A2008\">\n",
    "            <Form tag=\"MNS\" slouniki=\"sbm2012,krapivabr2012\">нарка+маўскі</Form>\n",
    "            ...\n",
    "            <Form tag=\"MAS\" options=\"inanim\">нарка+маўскі</Form>\n",
    "            <Form tag=\"MAS\" options=\"anim\">нарка+маўскага</Form>\n",
    "            ...\n",
    "        </Variant>\n",
    "        <Variant id=\"b\" lemma=\"нарко+маўскі\" pravapis=\"A1957\">\n",
    "            <Form tag=\"MNS\" slouniki=\"tsbm1984\">нарко+маўскі</Form>\n",
    "            ...\n",
    "        </Variant>\n",
    "    </Paradigm>\n",
    "</Wordlist>\n",
    "```"
   ]
  },
  {
   "cell_type": "markdown",
   "id": "123681fd-1475-4120-9154-b5ff5d7abd96",
   "metadata": {},
   "source": [
    "-------"
   ]
  },
  {
   "cell_type": "markdown",
   "id": "ddf5c12d-5fda-4de8-954e-2a708d3a3198",
   "metadata": {},
   "source": [
    "# Import libraries"
   ]
  },
  {
   "cell_type": "code",
   "execution_count": 2,
   "id": "eb6590de-aa1e-4268-bc8b-7e206dfdeb5e",
   "metadata": {},
   "outputs": [],
   "source": [
    "import os\n",
    "import bs4\n",
    "from bs4 import BeautifulSoup\n",
    "import bs4.builder._lxml"
   ]
  },
  {
   "cell_type": "markdown",
   "id": "a80ba540-35fc-4f91-a4aa-0944b4cf8f05",
   "metadata": {},
   "source": [
    "# Reading files\n"
   ]
  },
  {
   "cell_type": "code",
   "execution_count": 3,
   "id": "5fe285b4-79e5-4117-b25f-099e1aafdef8",
   "metadata": {},
   "outputs": [
    {
     "data": {
      "text/plain": [
       "'A1.xml'"
      ]
     },
     "execution_count": 3,
     "metadata": {},
     "output_type": "execute_result"
    }
   ],
   "source": [
    "path = \"./RELEASE-20230920/\"\n",
    "fl = [] #file list\n",
    "\n",
    "for root, dirs, files in os.walk(path):\n",
    "    if root == path:\n",
    "        fl = [f for f in files if f.endswith('.xml')]\n",
    "\n",
    "fl.sort()\n",
    "fl[0]"
   ]
  },
  {
   "cell_type": "markdown",
   "id": "6a5987f9-e66e-4982-a04c-9e49639ecadd",
   "metadata": {},
   "source": [
    "Gathering morphosyntactic tags and nesting under PoS using the following structure `{posTag: {form: {wordForm: {id:'', lemma:''}}}}`"
   ]
  },
  {
   "cell_type": "code",
   "execution_count": 4,
   "id": "43af7b50-f5dc-4194-9d99-1183f048760c",
   "metadata": {
    "scrolled": true
   },
   "outputs": [],
   "source": [
    "tags = {}\n",
    "\n",
    "for f in fl:\n",
    "    with open(path + f, 'r') as my_file:\n",
    "        file = my_file.read()\n",
    "        \n",
    "    soup = BeautifulSoup(file, features='xml')\n",
    "    words = soup.find_all(\"Paradigm\")\n",
    "\n",
    "    for w in words:\n",
    "        try:\n",
    "            if w['tag'] not in tags:\n",
    "                tags[w['tag']] = {}\n",
    "                \n",
    "            forms = w.find_all('Form')\n",
    "                \n",
    "            for form in forms:\n",
    "                if form['tag'] not in tags[w['tag']]:\n",
    "                    tags[w['tag']][form['tag']] = {form.string: {'id': w.attrs['pdgId'], 'lemma': w.attrs['lemma']}}\n",
    "                else:\n",
    "                    tags[w['tag']][form['tag']][form.string] = {'id': w.attrs['pdgId'], 'lemma': w.attrs['lemma']}\n",
    "\n",
    "        except:\n",
    "            # print(w)\n",
    "            pass"
   ]
  },
  {
   "cell_type": "code",
   "execution_count": 5,
   "id": "15910da2-e1bc-4d2c-afd1-3d259cc8e87e",
   "metadata": {
    "scrolled": true
   },
   "outputs": [
    {
     "data": {
      "text/plain": [
       "dict_keys(['ARP', 'AQP', 'APP', 'AQC', 'A0', 'AXP', 'AQS', 'CKX', 'CSX', 'E', 'I', 'MNKS', 'MAKS', 'MACS', 'MAOC', 'MNCS', 'M0CS', 'MAOS', 'MNCC', 'MXCS', 'NCIINN0', 'NCIINF2', 'NCIINM1', 'NCIINN1', 'NCIINP7', 'NCAPNM1', 'NCIINF3', 'NCAPNF2', 'NCAPNM2', 'NCAINM1', 'NCIIBF3', 'NCAPNS5', 'NCIIBM0', 'NCIIBM1', 'NCIIBN1', 'NCIINS5', 'NCAIBM1', 'NCAPBM1', 'NCIINF0', 'NCAINF2', 'NCIIBF2', 'NCIIBN0', 'NCAPBF2', 'NCIINU5', 'NCAIBF2', 'NCAINU5', 'NCAINS5', 'NCAINF0', 'NCAINP7', 'NCAINN4', 'NCIINM0', 'NCAINM0', 'NCAINN1', 'NCAPNM0', 'NCIIBF0', 'NCAPNN0', 'NCIINM6', 'NCAPNP7', 'NCIINM2', 'NCAPNN1', 'NCAPNF3', 'NCAPNU5', 'N', 'NCAPNF0', 'NCAPNN4', 'NCAINM2', 'NCAINF3', 'NCAPNM6', 'NCIIBP7', 'NCIINN4', 'NCIINP0', 'NCAPBM0', 'NCAINN0', 'NCAPNP0', 'NCAPNF4', 'NCAPNM4', 'NPIIBF0', 'NPAPNM1', 'NPIINP7', 'NPIINM1', 'NPIINN1', 'NPIINF3', 'NPIINF2', 'NPIINM0', 'NPIINF0', 'NPAPNS5', 'NPIINS5', 'NPAPNF2', 'NPAPNM0', 'NPIINM2', 'NPIIBM1', 'NPIINU5', 'NPAPNM2', 'NPAPNF0', 'NPIINN0', 'NPAPNM6', 'NPIINM6', 'NPAPNF3', 'NPIIBN0', 'NPIINF1', 'NPAINF2', 'NPAINM6', 'NPIINP0', 'PPPP', 'PPPM', 'PARM', 'PAPP', 'PPRM', 'RA', 'RX', 'RN', 'RV', 'RM', 'RG', 'RS', 'SNF0', 'SAF0', 'SANX', 'SNN0', 'SAN0', 'SAS0', 'SNP2', 'SAD0', 'SAE0', 'SNP3', 'S0S0', 'SAL0', 'SNP1', 'S0F0', 'SNE0', 'SAF3', 'SNR0', 'S0E0', 'SNL0', 'VIMR1', 'VTMN1', 'VIPR2', 'VTPN2', 'VTPN1', 'VXMN1', 'VIPR1', 'VIPN1', 'VIMN1', 'VDPN1', 'VXMR1', 'VIPN2', 'VDMN1', 'VXPN1', 'VIMR2', 'VTMN2', 'VIMN2', 'VXPR1', 'VXPR2', 'VDPN2', 'VIPN', 'VXPN2', 'VDMN2', 'VXMN2', 'VIMN3', 'VXMR2', 'VTPR1', 'VTPN3', 'VDMN3', 'VDPR1', 'VTMR1', 'VXPN3', 'VTPR2', 'W', 'Y', 'Z'])"
      ]
     },
     "execution_count": 5,
     "metadata": {},
     "output_type": "execute_result"
    }
   ],
   "source": [
    "tags.keys()"
   ]
  },
  {
   "cell_type": "code",
   "execution_count": 6,
   "id": "493ecedd-b920-4317-b066-83580a0c4df3",
   "metadata": {
    "scrolled": true
   },
   "outputs": [
    {
     "data": {
      "text/plain": [
       "{'id': '1162172', 'lemma': 'аага+мны'}"
      ]
     },
     "execution_count": 6,
     "metadata": {},
     "output_type": "execute_result"
    }
   ],
   "source": [
    "tags['ARP']['MNS']['аага+мны']"
   ]
  },
  {
   "cell_type": "markdown",
   "id": "932de5d4-68e2-47c4-96f2-640467eba80c",
   "metadata": {},
   "source": [
    "# Exploratory"
   ]
  },
  {
   "cell_type": "markdown",
   "id": "10cf32d8-d58c-4da3-8864-a0981b4f14ed",
   "metadata": {},
   "source": [
    "Various grouping to determine data structure, some of them used in next sections"
   ]
  },
  {
   "cell_type": "code",
   "execution_count": 10,
   "id": "d814bbb7-4c01-4600-a2b9-5e388d59b058",
   "metadata": {},
   "outputs": [
    {
     "data": {
      "text/plain": [
       "dict_keys(['MNS', 'MGS', 'MDS', 'MAS', 'MIS', 'MLS', 'NNS', 'NGS', 'NDS', 'NAS', 'NIS', 'NLS', 'FNS', 'FGS', 'FDS', 'FAS', 'FIS', 'FLS', 'PNP', 'PGP', 'PDP', 'PAP', 'PIP', 'PLP', 'R'])"
      ]
     },
     "execution_count": 10,
     "metadata": {},
     "output_type": "execute_result"
    }
   ],
   "source": [
    "tags['ARP'].keys()"
   ]
  },
  {
   "cell_type": "code",
   "execution_count": 57,
   "id": "11e4302f-c43a-4ab8-81ca-f6f98de4e105",
   "metadata": {
    "scrolled": true
   },
   "outputs": [
    {
     "name": "stdout",
     "output_type": "stream",
     "text": [
      "['ARP']['MNS']['аага+мны']\n",
      "['ARP']['MGS']['аага+мнага']\n",
      "['ARP']['MDS']['аага+мнаму']\n",
      "['ARP']['MAS']['аага+мны']\n",
      "['ARP']['MIS']['аага+мным']\n",
      "['ARP']['MLS']['аага+мным']\n",
      "['ARP']['NNS']['аага+мнае']\n",
      "['ARP']['NGS']['аага+мнага']\n",
      "['ARP']['NDS']['аага+мнаму']\n",
      "['ARP']['NAS']['аага+мнае']\n",
      "['ARP']['NIS']['аага+мным']\n",
      "['ARP']['NLS']['аага+мным']\n",
      "['ARP']['FNS']['аага+мная']\n",
      "['ARP']['FGS']['аага+мнай']\n",
      "['ARP']['FDS']['аага+мнай']\n",
      "['ARP']['FAS']['аага+мную']\n",
      "['ARP']['FIS']['аага+мнай']\n",
      "['ARP']['FLS']['аага+мнай']\n",
      "['ARP']['PNP']['аага+мныя']\n",
      "['ARP']['PGP']['аага+мных']\n",
      "['ARP']['PDP']['аага+мным']\n",
      "['ARP']['PAP']['аага+мныя']\n",
      "['ARP']['PIP']['аага+мнымі']\n",
      "['ARP']['PLP']['аага+мных']\n",
      "['ARP']['R']['бязму+жне']\n"
     ]
    }
   ],
   "source": [
    "m = 'ARP' # examples of all forms of a PoS\n",
    "\n",
    "for cat in list(tags[m].keys()): \n",
    "    ex = [i for i in tags[m][cat].keys()][0]\n",
    "    print('[\\'' + m + '\\'][\\'' + cat + '\\'][\\'' + ex + '\\']')"
   ]
  },
  {
   "cell_type": "code",
   "execution_count": 62,
   "id": "0b78b324-34e0-44ba-8eb4-ad3ee080c1c2",
   "metadata": {
    "scrolled": true
   },
   "outputs": [
    {
     "name": "stdout",
     "output_type": "stream",
     "text": [
      "ARP ['MNS', 'MGS', 'MDS', 'MAS', 'MIS', 'MLS', 'NNS', 'NGS', 'NDS', 'NAS', 'NIS', 'NLS', 'FNS', 'FGS', 'FDS', 'FAS', 'FIS', 'FLS', 'PNP', 'PGP', 'PDP', 'PAP', 'PIP', 'PLP', 'R']\n",
      "AQP ['MNS', 'MGS', 'MDS', 'MAS', 'MIS', 'MLS', 'NNS', 'NGS', 'NDS', 'NAS', 'NIS', 'NLS', 'FNS', 'FGS', 'FDS', 'FAS', 'FIS', 'FLS', 'PNP', 'PGP', 'PDP', 'PAP', 'PIP', 'PLP']\n",
      "APP ['MNS', 'MGS', 'MDS', 'MAS', 'MIS', 'MLS', 'NNS', 'NGS', 'NDS', 'NAS', 'NIS', 'NLS', 'FNS', 'FGS', 'FDS', 'FAS', 'FIS', 'FLS', 'PNP', 'PGP', 'PDP', 'PAP', 'PIP', 'PLP']\n",
      "AQC ['MNS', 'MGS', 'MDS', 'MAS', 'MIS', 'MLS', 'NNS', 'NGS', 'NDS', 'NAS', 'NIS', 'NLS', 'FNS', 'FGS', 'FDS', 'FAS', 'FIS', 'FLS', 'PNP', 'PGP', 'PDP', 'PAP', 'PIP', 'PLP']\n",
      "A0 ['']\n",
      "AXP ['MNS', 'MGS', 'MDS', 'MAS', 'MIS', 'MLS', 'NNS', 'NGS', 'NDS', 'NAS', 'NIS', 'NLS', 'FNS', 'FGS', 'FDS', 'FAS', 'FIS', 'FLS', 'PNP', 'PGP', 'PDP', 'PAP', 'PIP', 'PLP']\n",
      "AQS ['MNS', 'MGS', 'MDS', 'MAS', 'MIS', 'MLS', 'NNS', 'NGS', 'NDS', 'NAS', 'NIS', 'NLS', 'FNS', 'FGS', 'FDS', 'FAS', 'FIS', 'FLS', 'PNP', 'PGP', 'PDP', 'PAP', 'PIP', 'PLP']\n"
     ]
    }
   ],
   "source": [
    "pos = {} # getting forms for all paradigm tags\n",
    "\n",
    "for cat in list(tags.keys()):\n",
    "    if cat[0] not in pos:\n",
    "        pos[cat[0]] = {}\n",
    "\n",
    "    pos[cat[0]][cat] = [key for key in tags[cat]]    \n",
    "\n",
    "for a in pos['A']: # adjective forms\n",
    "    print(a, pos['A'][a])"
   ]
  },
  {
   "cell_type": "markdown",
   "id": "a2ea102e-1129-47d7-a657-04757e436f10",
   "metadata": {},
   "source": [
    "## PoS paradigms"
   ]
  },
  {
   "cell_type": "code",
   "execution_count": 64,
   "id": "d6ec9299-f036-4b4f-9fbe-3bad62652bc1",
   "metadata": {
    "scrolled": true
   },
   "outputs": [
    {
     "name": "stdout",
     "output_type": "stream",
     "text": [
      "{'par': ['NS', 'GS', 'DS', 'AS', 'IS', 'LS', 'NP', 'GP', 'DP', 'AP', 'IP', 'LP'], 'types': ['NCIINN0', 'NCIINF2', 'NCIINM1', 'NCIINN1', 'NCIINF3', 'NCAPNF2', 'NCAPNM2', 'NCIIBF3', 'NCIIBM0', 'NCIIBM1', 'NCIIBN1', 'NCAIBM1', 'NCAPBM1', 'NCIINF0', 'NCAINF2', 'NCIIBF2', 'NCIIBN0', 'NCAPBF2', 'NCAIBF2', 'NCAINF0', 'NCAINN4', 'NCIINM0', 'NCAINM0', 'NCAINN1', 'NCAPNM0', 'NCIIBF0', 'NCAPNN0', 'NCIINM6', 'NCIINM2', 'NCAPNN1', 'NCAPNF3', 'NCAPNF0', 'NCAPNN4', 'NCAINM2', 'NCAINF3', 'NCAPNM6', 'NCIINN4', 'NCAPBM0', 'NCAINN0', 'NCAPNF4', 'NCAPNM4', 'NPAPNM1', 'NPIINM1', 'NPIINN1', 'NPIINF2', 'NPIINM0', 'NPAPNF2', 'NPAPNM0', 'NPIIBM1', 'NPAPNM2', 'NPAPNF0', 'NPIINN0', 'NPAPNM6', 'NPIIBN0']}\n"
     ]
    }
   ],
   "source": [
    "mtags = {} # grouping paradigm tags that have the same form list, no PoS criteria\n",
    "cn = 0\n",
    "\n",
    "for part in pos.keys():\n",
    "    for morph in pos[part].keys():\n",
    "        check = {}\n",
    "        \n",
    "        for m in mtags.keys():       \n",
    "           check[m] = mtags[m]['par']\n",
    "        \n",
    "        if pos[part][morph] not in check.values():\n",
    "            cn += 1\n",
    "            mtags['type'+str(cn)] = {'par': pos[part][morph], 'types':[morph]}\n",
    "\n",
    "        else:\n",
    "            for c in check.keys():\n",
    "                if check[c] == pos[part][morph]:\n",
    "                    mtags[c]['types'].append(morph)\n",
    "\n",
    "print(mtags['type10'])"
   ]
  },
  {
   "cell_type": "markdown",
   "id": "3912c834-4d82-4fe5-9c8c-94fb8b06d368",
   "metadata": {},
   "source": [
    "## `Tag` attribute disambiguation"
   ]
  },
  {
   "cell_type": "markdown",
   "id": "cfb1a60a-820d-47dd-ae44-9d0a3a9a18c4",
   "metadata": {},
   "source": [
    "All paradigm and form tags within a PoS"
   ]
  },
  {
   "cell_type": "code",
   "execution_count": 70,
   "id": "1aacd3c7-cdc7-4cd2-a5b4-24dbff7cd6a2",
   "metadata": {},
   "outputs": [],
   "source": [
    "alltags = {}\n",
    "\n",
    "for p in pos.keys():\n",
    "    alltags[p] = {'partags': [], 'fortags': []}\n",
    "    \n",
    "    for k in pos[p].keys():\n",
    "        if k not in alltags[p]['partags']:\n",
    "            alltags[p]['partags'].append(k)\n",
    "\n",
    "        for f in pos[p][k]:\n",
    "            if f not in alltags[p]['fortags']:\n",
    "                alltags[p]['fortags'].append(f)"
   ]
  },
  {
   "cell_type": "code",
   "execution_count": 71,
   "id": "5c0087e2-a419-4cb8-8acf-66d9e7e54e00",
   "metadata": {
    "scrolled": true
   },
   "outputs": [
    {
     "data": {
      "text/plain": [
       "{'partags': ['ARP', 'AQP', 'APP', 'AQC', 'A0', 'AXP', 'AQS'],\n",
       " 'fortags': ['MNS',\n",
       "  'MGS',\n",
       "  'MDS',\n",
       "  'MAS',\n",
       "  'MIS',\n",
       "  'MLS',\n",
       "  'NNS',\n",
       "  'NGS',\n",
       "  'NDS',\n",
       "  'NAS',\n",
       "  'NIS',\n",
       "  'NLS',\n",
       "  'FNS',\n",
       "  'FGS',\n",
       "  'FDS',\n",
       "  'FAS',\n",
       "  'FIS',\n",
       "  'FLS',\n",
       "  'PNP',\n",
       "  'PGP',\n",
       "  'PDP',\n",
       "  'PAP',\n",
       "  'PIP',\n",
       "  'PLP',\n",
       "  'R',\n",
       "  '']}"
      ]
     },
     "execution_count": 71,
     "metadata": {},
     "output_type": "execute_result"
    }
   ],
   "source": [
    "alltags['A']"
   ]
  },
  {
   "cell_type": "markdown",
   "id": "9d8b034e-3180-41f7-be75-94cffc385ed9",
   "metadata": {},
   "source": [
    "# Mapping data structures"
   ]
  },
  {
   "cell_type": "markdown",
   "id": "488ea605-3f0f-42d1-b4f1-2d52388d2f76",
   "metadata": {},
   "source": [
    "Collecting all `Paradigm`, `Variant`, `Form` attributes:"
   ]
  },
  {
   "cell_type": "code",
   "execution_count": 103,
   "id": "03c369b2-446d-4065-95ae-968cb6f05034",
   "metadata": {},
   "outputs": [
    {
     "name": "stdout",
     "output_type": "stream",
     "text": [
      "{'Paradigm': ['pdgId', 'lemma', 'tag', 'regulation', 'govern', 'todo', 'meaning', 'type', 'marked', 'comment', 'options', 'theme'], 'Variant': ['id', 'lemma', 'slouniki', 'pravapis', 'rules', 'type', 'regulation', 'tag'], 'Form': ['tag', 'slouniki', 'options', 'pravapis', 'govern', 'type', 'comment', 'todo']}\n"
     ]
    }
   ],
   "source": [
    "attributes = {'Paradigm':[], 'Variant':[], 'Form':[]}\n",
    "\n",
    "for f in fl:\n",
    "    with open(path + f, 'r') as my_file:\n",
    "        file = my_file.read()\n",
    "        \n",
    "    soup = BeautifulSoup(file, features='xml')\n",
    "    words = soup.find_all(\"Paradigm\")\n",
    "\n",
    "    for w in words:\n",
    "        for at in w.attrs.keys():\n",
    "            if at not in attributes['Paradigm']:\n",
    "                attributes['Paradigm'].append(at)\n",
    "\n",
    "        variants = w.find_all('Variant')\n",
    "        for v in variants:\n",
    "            for at in v.attrs.keys():\n",
    "                if at not in attributes['Variant']:\n",
    "                    attributes['Variant'].append(at)\n",
    "\n",
    "        forms = w.find_all('Form')\n",
    "        for f in forms:\n",
    "            for at in f.attrs.keys():\n",
    "                if at not in attributes['Form']:\n",
    "                    attributes['Form'].append(at)\n",
    "        \n",
    "print(attributes)"
   ]
  },
  {
   "cell_type": "markdown",
   "id": "0872b3b7-11ff-44ec-8075-758cffe4f889",
   "metadata": {},
   "source": [
    "The following attributes are to be retained:\n",
    "- `Paradigm`:\n",
    "    - `pdgId` - original paradigm ID\n",
    "    - `lemma` \n",
    "    - `tag` - morphosyntactic data of the paradigm as a whole, such as part of speech\n",
    "- `Variant`:\n",
    "    - `id` - original variant ID (within a paradigm)\n",
    "    - `lemma`\n",
    "    - `slouniki` - dictionaries that have this word variant\n",
    "    - `pravapis` - orthography conventions of the variant\n",
    "- `Form`:\n",
    "    - `tag` - morphosyntactic data of the form\n",
    "    - `slouniki` - dictionaries that have this word variant\n",
    "    - `options` - animacy value (animate, inanimate) for forms which change depending on this attribute\n",
    "    - `pravapis`- orthography conventions of the form\n",
    " \n",
    "__(!) The primary linguistic data is to be retrieved from `tag` values.__\n",
    "\n",
    "Other attributes are provided inconsistently, mostly for personal remarks of the developers or data structures for future versions.      "
   ]
  },
  {
   "cell_type": "markdown",
   "id": "344f2944-af5a-4eb4-b61f-2be2907687f4",
   "metadata": {},
   "source": [
    "Retrieve all `slouniki` and `pravapis` values:"
   ]
  },
  {
   "cell_type": "code",
   "execution_count": 115,
   "id": "fd30757a-e32b-4645-94b3-8193712d49d2",
   "metadata": {},
   "outputs": [
    {
     "name": "stdout",
     "output_type": "stream",
     "text": [
      "['piskunou2012', 'prym2009', 'sbm2012', 'tsblm1996', 'tsbm1984', 'krapivabr2012', 'dzsl2007', 'prym2013', 'biryla1987', 'nazounik2008', 'nazounik2013', '', 'dzsl2013']\n",
      "['A1957', 'A2008', '']\n"
     ]
    }
   ],
   "source": [
    "sources = []\n",
    "orth = []\n",
    "\n",
    "for f in fl:\n",
    "    with open(path + f, 'r') as my_file:\n",
    "        file = my_file.read()\n",
    "        \n",
    "    soup = BeautifulSoup(file, features='xml')\n",
    "    words = soup.find_all(\"Paradigm\")\n",
    "\n",
    "    for w in words:\n",
    "        variants = w.find_all('Variant')\n",
    "        \n",
    "        for v in variants:\n",
    "            for at in v.attrs.keys():\n",
    "                \n",
    "                #sources\n",
    "                if at == 'slouniki':\n",
    "                    if ':' not in v.attrs[at]:\n",
    "                        for s in v.attrs[at].split(','):\n",
    "                            if s.strip() not in sources:\n",
    "                                sources.append(s.strip())\n",
    "                        \n",
    "                    else:\n",
    "                        for s in v.attrs[at].split(','):\n",
    "                            if ':' in s:\n",
    "                                if s.split(':')[0].strip() not in sources:\n",
    "                                    sources.append(s.split(':')[0].strip())\n",
    "                        \n",
    "                #orthography\n",
    "                if at == 'pravapis':\n",
    "                    for o in v.attrs[at].split(','):\n",
    "                        if o.strip() not in orth:\n",
    "                            orth.append(o.strip())\n",
    "\n",
    "\n",
    "        forms = w.find_all('Form')\n",
    "        for f in forms:\n",
    "            for at in f.attrs.keys():\n",
    "                \n",
    "                #sources\n",
    "                if at == 'slouniki':\n",
    "                    \n",
    "                    if ':' not in f.attrs[at]:\n",
    "                        for s in f.attrs[at].split(','):\n",
    "                            if s.strip() not in sources:\n",
    "                                sources.append(s.strip())\n",
    "                        \n",
    "                    else:\n",
    "                        for s in f.attrs[at].split(','):\n",
    "                            if ':' in s:\n",
    "                                if s.split(':')[0].strip() not in sources:\n",
    "                                    sources.append(s.split(':')[0].strip())\n",
    "                #orthography\n",
    "                if at == 'pravapis':\n",
    "                    for o in f.attrs[at].split(','):\n",
    "                        if o.strip() not in orth:\n",
    "                            orth.append(o.strip())\n",
    "\n",
    "print(sources)\n",
    "print(orth)"
   ]
  },
  {
   "cell_type": "markdown",
   "id": "c571ff6b-9d03-4531-9270-b98800a80333",
   "metadata": {},
   "source": [
    "## `slouniki` values\n",
    "- `tsbm1984` - «Тлумачальны слоўнік беларускай мовы. У 5 т.» (1984)\n",
    "- `biryla1987` - «Слоўнік беларускай мовы (пад. рэд. М.В. Бірылы)» (1987)\n",
    "- `nazounik2008` - «Граматычны слоўнік назоўніка» (2008)\n",
    "- `dzsl2007` - «Граматычны слоўнік дзеяслова» (2008)\n",
    "- `prym2009` - «Граматычны слоўнік прыметніка, займенніка, лічэбніка, прыслоўя» (2008)\n",
    "- `krapivabr2012` (?) - «Руска-беларускі слоўнік. У 3 т.» (2011)\n",
    "- `krapivabr2012` - «Беларуска-рускі слоўнік. У 3 т.» (2012)\n",
    "- `piskunou2012` - «Вялікі слоўнік беларускай мовы: арфаграфія, акцэнтуацыя, парадыгматыка (каля 223 000 слоў)» (2012)\n",
    "- `sbm2012` - «Слоўнік беларускай мовы» (2012)\n",
    "- `nazounik2013` - «Граматычны слоўнік назоўніка» (2013)\n",
    "- `dzsl2013` - «Граматычны слоўнік дзеяслова» (2013)\n",
    "- `prym2013` - «Граматычны слоўнік прыметніка, займенніка, лічэбніка, прыслоўя» (2013)\n",
    "- `tsblm1996` (?) - «Тлумачальны слоўнік беларускай літаратурнай мовы» (2016)"
   ]
  },
  {
   "cell_type": "code",
   "execution_count": 119,
   "id": "98ddedb9-0bfa-43f4-ac9e-7a9bdb2bd75b",
   "metadata": {},
   "outputs": [
    {
     "name": "stdout",
     "output_type": "stream",
     "text": [
      "«Тлумачальны слоўнік беларускай мовы. У 5 т.» (1984)\n"
     ]
    }
   ],
   "source": [
    "sourcedict = {\n",
    "    'tsbm1984': '«Тлумачальны слоўнік беларускай мовы. У 5 т.» (1984)',\n",
    "    'biryla1987': '«Слоўнік беларускай мовы (пад. рэд. М.В. Бірылы)» (1987)',\n",
    "    'nazounik2008': '«Граматычны слоўнік назоўніка» (2008)',\n",
    "    'dzsl2007': '«Граматычны слоўнік дзеяслова» (2008)',\n",
    "    'prym2009': '«Граматычны слоўнік прыметніка, займенніка, лічэбніка, прыслоўя» (2008)',\n",
    "    'krapivabr2012': '«Руска-беларускі слоўнік. У 3 т.» (2011)',\n",
    "    'krapivabr2012': '«Беларуска-рускі слоўнік. У 3 т.» (2012)',\n",
    "    'piskunou2012': '«Вялікі слоўнік беларускай мовы: арфаграфія, акцэнтуацыя, парадыгматыка (каля 223 000 слоў)» (2012)',\n",
    "    'sbm2012': '«Слоўнік беларускай мовы» (2012)',\n",
    "    'nazounik2013': '«Граматычны слоўнік назоўніка» (2013)',\n",
    "    'dzsl2013': '«Граматычны слоўнік дзеяслова» (2013)',\n",
    "    'prym2013': '«Граматычны слоўнік прыметніка, займенніка, лічэбніка, прыслоўя» (2013)',\n",
    "    'tsblm1996': '«Тлумачальны слоўнік беларускай літаратурнай мовы» (2016)'\n",
    "}\n",
    "\n",
    "print(sourcedict['tsbm1984'])"
   ]
  },
  {
   "cell_type": "markdown",
   "id": "1dc5cc33-e39f-4c51-8eaa-52e75e54f23b",
   "metadata": {},
   "source": [
    "## `pravapis` values"
   ]
  },
  {
   "cell_type": "markdown",
   "id": "0706a277-1047-4209-a07f-4363596d9821",
   "metadata": {},
   "source": [
    "- `A1957` - «Правілы беларускай арфаграфіі і пунктуацыі» (1959)\n",
    "- `A2008` - «Правілы беларускай арфаграфіі і пунктуацыі» (2008)"
   ]
  },
  {
   "cell_type": "code",
   "execution_count": 122,
   "id": "86eb2a2e-8638-405a-a351-aa1a6bf63d8f",
   "metadata": {},
   "outputs": [
    {
     "data": {
      "text/plain": [
       "'«Правілы беларускай арфаграфіі і пунктуацыі» (2008)'"
      ]
     },
     "execution_count": 122,
     "metadata": {},
     "output_type": "execute_result"
    }
   ],
   "source": [
    "orthdict = {\n",
    "    'A1957': '«Правілы беларускай арфаграфіі і пунктуацыі» (1959)',\n",
    "    'A2008': '«Правілы беларускай арфаграфіі і пунктуацыі» (2008)'\n",
    "}\n",
    "\n",
    "orthdict['A2008']"
   ]
  },
  {
   "cell_type": "markdown",
   "id": "5b58f584-172e-48b1-81ea-ebfdfeae1a9b",
   "metadata": {},
   "source": [
    "## `POS` value"
   ]
  },
  {
   "cell_type": "markdown",
   "id": "fdcb239b-b190-45f7-8d68-49c8fb29dfde",
   "metadata": {},
   "source": [
    "- Part of speech, sometimes its subcategory, is indicated by the first character of the `tag` value in `<Paradigm>` container. For example, initial __\"A\"__ in `ARP` of `<Paradigm pdgId=\"1195935\" lemma=\"нарка+маўскі\" tag=\"ARP\">` means \"Adjective\"\n",
    "- Original data is separated into files dedicated to parts of speech using the same nomenclature. Adjectives are stored in `A1.xml` and `A2.xml` etc."
   ]
  },
  {
   "cell_type": "code",
   "execution_count": 129,
   "id": "9b0ba833-61de-4bc7-88eb-2ea1bb5528de",
   "metadata": {},
   "outputs": [
    {
     "data": {
      "text/plain": [
       "['MNS', 'MGS', 'MDS', 'MAS', 'MIS', 'MLS', 'NNS', 'NGS', 'NDS', 'NAS']"
      ]
     },
     "execution_count": 129,
     "metadata": {},
     "output_type": "execute_result"
    }
   ],
   "source": [
    "pos['A']['ARP'][:10]"
   ]
  },
  {
   "cell_type": "code",
   "execution_count": 184,
   "id": "697e9119-82b8-4019-8047-4eae5ca2eb05",
   "metadata": {},
   "outputs": [
    {
     "name": "stdout",
     "output_type": "stream",
     "text": [
      "A {'pos': 'Adjective', 'postag': 'ADJ', 'tags': ['ARP', 'AQP', 'APP', 'AQC', 'A0', 'AXP', 'AQS']}\n",
      "C {'pos': 'Conjunction', 'postag': 'CCONJ', 'tags': ['CKX', 'CSX']}\n",
      "E {'pos': 'Particle', 'postag': 'PART', 'tags': ['E']}\n",
      "I {'pos': 'Preposition', 'postag': 'ADP', 'tags': ['I']}\n",
      "M {'pos': 'Numeral', 'postag': 'NUM', 'tags': ['MNKS', 'MAKS', 'MACS', 'MAOC', 'MNCS', 'M0CS', 'MAOS', 'MNCC', 'MXCS']}\n",
      "N {'pos': 'Noun', 'postag': 'NOUN', 'tags': ['NCIINN0', 'NCIINF2', 'NCIINM1', 'NCIINN1', 'NCIINP7', 'NCAPNM1', 'NCIINF3', 'NCAPNF2', 'NCAPNM2', 'NCAINM1', 'NCIIBF3', 'NCAPNS5', 'NCIIBM0', 'NCIIBM1', 'NCIIBN1', 'NCIINS5', 'NCAIBM1', 'NCAPBM1', 'NCIINF0', 'NCAINF2', 'NCIIBF2', 'NCIIBN0', 'NCAPBF2', 'NCIINU5', 'NCAIBF2', 'NCAINU5', 'NCAINS5', 'NCAINF0', 'NCAINP7', 'NCAINN4', 'NCIINM0', 'NCAINM0', 'NCAINN1', 'NCAPNM0', 'NCIIBF0', 'NCAPNN0', 'NCIINM6', 'NCAPNP7', 'NCIINM2', 'NCAPNN1', 'NCAPNF3', 'NCAPNU5', 'N', 'NCAPNF0', 'NCAPNN4', 'NCAINM2', 'NCAINF3', 'NCAPNM6', 'NCIIBP7', 'NCIINN4', 'NCIINP0', 'NCAPBM0', 'NCAINN0', 'NCAPNP0', 'NCAPNF4', 'NCAPNM4', 'NPIIBF0', 'NPAPNM1', 'NPIINP7', 'NPIINM1', 'NPIINN1', 'NPIINF3', 'NPIINF2', 'NPIINM0', 'NPIINF0', 'NPAPNS5', 'NPIINS5', 'NPAPNF2', 'NPAPNM0', 'NPIINM2', 'NPIIBM1', 'NPIINU5', 'NPAPNM2', 'NPAPNF0', 'NPIINN0', 'NPAPNM6', 'NPIINM6', 'NPAPNF3', 'NPIIBN0', 'NPIINF1', 'NPAINF2', 'NPAINM6', 'NPIINP0']}\n",
      "P {'pos': 'Participle', 'postag': 'VERB', 'VerbForm': 'Part', 'tags': ['PPPP', 'PPPM', 'PARM', 'PAPP', 'PPRM']}\n",
      "R {'pos': 'Adverb', 'postag': 'ADV', 'tags': ['RA', 'RX', 'RN', 'RV', 'RM', 'RG', 'RS']}\n",
      "S {'pos': 'Pronoun', 'postag': 'PRON', 'tags': ['SNF0', 'SAF0', 'SANX', 'SNN0', 'SAN0', 'SAS0', 'SNP2', 'SAD0', 'SAE0', 'SNP3', 'S0S0', 'SAL0', 'SNP1', 'S0F0', 'SNE0', 'SAF3', 'SNR0', 'S0E0', 'SNL0']}\n",
      "V {'pos': 'Verb', 'postag': 'VERB', 'tags': ['VIMR1', 'VTMN1', 'VIPR2', 'VTPN2', 'VTPN1', 'VXMN1', 'VIPR1', 'VIPN1', 'VIMN1', 'VDPN1', 'VXMR1', 'VIPN2', 'VDMN1', 'VXPN1', 'VIMR2', 'VTMN2', 'VIMN2', 'VXPR1', 'VXPR2', 'VDPN2', 'VIPN', 'VXPN2', 'VDMN2', 'VXMN2', 'VIMN3', 'VXMR2', 'VTPR1', 'VTPN3', 'VDMN3', 'VDPR1', 'VTMR1', 'VXPN3', 'VTPR2']}\n",
      "W {'pos': 'прэдыкатыў', 'postag': None, 'tags': ['W']}\n",
      "Y {'pos': 'Interjection', 'postag': 'INTJ', 'tags': ['Y']}\n",
      "Z {'pos': 'пабочнае слова', 'postag': None, 'tags': ['Z']}\n"
     ]
    }
   ],
   "source": [
    "posdict = {\n",
    "    'A': {'pos': 'Adjective', 'postag':'ADJ', 'tags':[]}, \n",
    "    'C': {'pos': 'Conjunction', 'postag':'CCONJ', 'tags':[]}, \n",
    "    'E': {'pos': 'Particle', 'postag':'PART', 'tags':[]}, \n",
    "    'I': {'pos': 'Preposition', 'postag':'ADP', 'tags':[]}, \n",
    "    'M': {'pos': 'Numeral', 'postag':'NUM', 'tags':[]}, \n",
    "    'N': {'pos': 'Noun', 'postag':'NOUN', 'tags':[]},  #PNOUN for proper nouns\n",
    "    'P': {'pos': 'Participle', 'postag':'VERB', 'VerbForm':'Part', 'tags':[]}, \n",
    "    'R': {'pos': 'Adverb', 'postag':'ADV', 'tags':[]}, \n",
    "    'S': {'pos': 'Pronoun', 'postag':'PRON', 'tags':[]}, \n",
    "    'V': {'pos': 'Verb', 'postag':'VERB', 'tags':[]}, \n",
    "    'W': {'pos': 'прэдыкатыў', 'postag':None, 'tags':[]}, \n",
    "    'Y': {'pos': 'Interjection', 'postag':'INTJ', 'tags':[]}, \n",
    "    'Z': {'pos': 'пабочнае слова', 'postag':None, 'tags':[]}\n",
    "          }\n",
    "\n",
    "for k in pos.keys():\n",
    "    for t in pos[k].keys():\n",
    "        posdict[k]['tags'].append(t)\n",
    "        \n",
    "for k in posdict.keys():\n",
    "    print(k, posdict[k])"
   ]
  },
  {
   "cell_type": "markdown",
   "id": "12603ea9-b2fa-4a22-98d6-ccf372d2886e",
   "metadata": {},
   "source": [
    "# Accentuation"
   ]
  },
  {
   "cell_type": "markdown",
   "id": "f0130aaf-f46f-4994-8d3e-ba2255586117",
   "metadata": {},
   "source": [
    "Original data includes accentuation as `+` mark after the stressed syllable as in `<Form>вало+шка</Form>`. To facilitate search function a form will be stored without accent, but the accent position will be indicated in an attribute. When requested, the stress mark will be shown as `u\\u0301` diacritic over the stressed vowel."
   ]
  },
  {
   "cell_type": "code",
   "execution_count": 163,
   "id": "aa04f745-45cb-45bf-abb9-9ec4bb8f4b08",
   "metadata": {},
   "outputs": [
    {
     "name": "stdout",
     "output_type": "stream",
     "text": [
      "валошка 4 вало́шка\n"
     ]
    }
   ],
   "source": [
    "accsample = 'вало+шка'\n",
    "\n",
    "form = accsample.replace('+','')\n",
    "accpos = accsample.find('+')\n",
    "accentuated = form[:accpos] + u'\\u0301' + form[accpos:]\n",
    "\n",
    "print(form, accpos, accentuated)"
   ]
  },
  {
   "cell_type": "markdown",
   "id": "36f73551-fb3a-4d2e-97e4-0d7b5f2e664b",
   "metadata": {},
   "source": [
    "# `tag` value conversion"
   ]
  },
  {
   "cell_type": "markdown",
   "id": "46c7ff53-e790-438d-ab50-1f042cfb6b3a",
   "metadata": {},
   "source": [
    "Mapping NCorpus notation onto UD markup. Both `<Paradigm>` and `<Form>` containers have `tag` values, see respective sections under each part of speech. These values are provided abbreviations of PoS data, so `AQS` means \"Adjective Qualitative Superlative\".\n",
    " \n",
    "**Reference**: \n",
    "- [GrammarDB documentation [↗︎]](https://www.academia.edu/60297156/%D0%93%D1%80%D0%B0%D0%BC%D0%B0%D1%82%D1%8B%D1%87%D0%BD%D0%B0%D1%8F_%D0%B1%D0%B0%D0%B7%D0%B0_%D0%B1%D0%B5%D0%BB%D0%B0%D1%80%D1%83%D1%81%D0%BA%D0%B0%D0%B9_%D0%BC%D0%BE%D0%B2%D1%8B_Belarusian_Language_Grammar_Database)\n",
    "- [UD Belarusian-HSE treebank [↗︎]](https://universaldependencies.org/treebanks/be_hse/index.html)\n",
    "\n",
    "Value lists mostly use ascending alphabetical order."
   ]
  },
  {
   "cell_type": "code",
   "execution_count": 169,
   "id": "f73d1129-5354-4dbc-95bf-dddabd46da45",
   "metadata": {},
   "outputs": [
    {
     "data": {
      "text/plain": [
       "dict_keys(['A', 'C', 'E', 'I', 'M', 'N', 'P', 'R', 'S', 'V', 'W', 'Y', 'Z'])"
      ]
     },
     "execution_count": 169,
     "metadata": {},
     "output_type": "execute_result"
    }
   ],
   "source": [
    "posdict.keys()"
   ]
  },
  {
   "cell_type": "markdown",
   "id": "92f43eb3-d779-4a81-b1aa-23262f94f8b7",
   "metadata": {},
   "source": [
    "## Adjective"
   ]
  },
  {
   "cell_type": "markdown",
   "id": "a290811f-72a0-4961-ba2f-088ebb67a6c1",
   "metadata": {},
   "source": [
    "- POS value: `ADJ` - adjective {Прыметнік}\n",
    "- Source files: `A1.xml`, `A2.xml`"
   ]
  },
  {
   "cell_type": "markdown",
   "id": "a7b887c2-2fc5-4524-9472-be96589c5a6a",
   "metadata": {},
   "source": [
    "### `Paradigm` tag"
   ]
  },
  {
   "cell_type": "code",
   "execution_count": 132,
   "id": "04704f7c-8f66-4d28-949f-b026521d6132",
   "metadata": {},
   "outputs": [
    {
     "name": "stdout",
     "output_type": "stream",
     "text": [
      "['ARP', 'AQP', 'APP', 'AQC', 'A0', 'AXP', 'AQS']\n"
     ]
    }
   ],
   "source": [
    "print(alltags['A']['partags'])"
   ]
  },
  {
   "cell_type": "markdown",
   "id": "296101ab-0ec7-45fb-b5ff-8ef7b42ab8df",
   "metadata": {},
   "source": [
    "Features:\n",
    "- `AdjType` {Тып} - adjective type (not found in HSE treebank)\n",
    "    - `Qlt` - qualitative {якасны}\n",
    "    - `Rel` - relative {адносны} \n",
    "    - `Pssv` - possesive {прыналежны}\n",
    "- `InflClass` {Словазмяненне}\n",
    "    - `Ind` - indeclinable {нескланяльны}\n",
    "- `Degree` {Ступень параўнання}\n",
    "    - `Pos` - positive {станоўчая}\n",
    "    - `Cmp` - comparative {вышэйшая}\n",
    "    - `Sup` - superlative {найвышэйшая}\n",
    "\n",
    "NCorp Tag | Notes | PoS | AdjType | Degree | InflClass\n",
    "----- | ----- | ----- | ----- | ----- | -----\n",
    "AQP | = Adjective Qualitative Positive | ADJ | Qlt | Pos | \n",
    "AQC | = Adjective Qualitative Comparative | ADJ | Qlt | Cmp | \n",
    "AQS | = Adjective Qualitative Superlative | ADJ | Qlt | Sup | \n",
    "ARP | = Adjective Relative Positive | ADJ | Rel | Pos | \n",
    "APP | = Adjective Posessive Positive | ADJ | Pssv | Pos | \n",
    "AXP | = Adjective (no type tag) Positive | ADJ |  | Pos | \n",
    "A0 | = Adjective Indeclinable, one form only | ADJ |  | Pos | Ind"
   ]
  },
  {
   "cell_type": "code",
   "execution_count": 21,
   "id": "e1f63053-51cf-43c1-898d-515d21349c43",
   "metadata": {},
   "outputs": [
    {
     "name": "stdout",
     "output_type": "stream",
     "text": [
      "ARP MNS 51531 {'id': '1162172', 'lemma': 'аага+мны'}\n",
      "AQP MNS 16588 {'id': '1045057', 'lemma': \"аб'е+дзены\"}\n",
      "APP MNS 410 {'id': '1303869', 'lemma': 'аве+чы'}\n",
      "AQC MNS 243 {'id': '1145622', 'lemma': 'актуа+льнейшы'}\n",
      "A0  23 {'id': '1193572', 'lemma': 'апа+ш'}\n",
      "AXP MNS 5 {'id': '1193804', 'lemma': 'блінто+ваны'}\n",
      "AQS MNS 196 {'id': '1073095', 'lemma': 'найадважны'}\n"
     ]
    }
   ],
   "source": [
    "# examples of each type\n",
    "\n",
    "for k in tags.keys():\n",
    "    if k.startswith('A'):\n",
    "        f1 = [f for f in tags[k].keys()][0] # the first form in the list\n",
    "        f1count = len([f for f in tags[k][f1].keys()]) # number of occurences of the first form only\n",
    "        ff1 = [f for f in tags[k][f1].keys()][0] # first example of the first form\n",
    "        print(k, f1, f1count, tags[k][f1][ff1])"
   ]
  },
  {
   "cell_type": "code",
   "execution_count": 98,
   "id": "7f7d972f-acc5-4656-9f54-9e8e40388e67",
   "metadata": {},
   "outputs": [
    {
     "name": "stdout",
     "output_type": "stream",
     "text": [
      "\n"
     ]
    },
    {
     "data": {
      "text/plain": [
       "{'': {'апа+ш': {'id': '1193572', 'lemma': 'апа+ш'},\n",
       "  'бардо+': {'id': '1140055', 'lemma': 'бардо+'},\n",
       "  'бекар': {'id': '1140068', 'lemma': 'бекар'},\n",
       "  'бемо+ль': {'id': '1140069', 'lemma': 'бемо+ль'},\n",
       "  'бру+та': {'id': '1193837', 'lemma': 'бру+та'},\n",
       "  'бу+ф': {'id': '1140070', 'lemma': 'бу+ф'},\n",
       "  'бэ+ж': {'id': '1192912', 'lemma': 'бэ+ж'},\n",
       "  'гафрэ': {'id': '1140071', 'lemma': 'гафрэ'},\n",
       "  'дум-ду+м': {'id': '1194542', 'lemma': 'дум-ду+м'},\n",
       "  'лю+кс': {'id': '1192913', 'lemma': 'лю+кс'},\n",
       "  'мадэ+рн': {'id': '1192914', 'lemma': 'мадэ+рн'},\n",
       "  'мідзі': {'id': '1140056', 'lemma': 'мідзі'},\n",
       "  'міні': {'id': '1140057', 'lemma': 'міні'},\n",
       "  'не+та': {'id': '1140059', 'lemma': 'не+та'},\n",
       "  'но+н-стоп': {'id': '1196120', 'lemma': 'но+н-стоп'},\n",
       "  'перва+нш': {'id': '1196482', 'lemma': 'перва+нш'},\n",
       "  'піке+': {'id': '1140060', 'lemma': 'піке+'},\n",
       "  'суахі+лі': {'id': '1140063', 'lemma': 'суахі+лі'},\n",
       "  'фрэ+з': {'id': '1140064', 'lemma': 'фрэ+з'},\n",
       "  'ха+кі': {'id': '1140066', 'lemma': 'ха+кі'},\n",
       "  'э+кстра': {'id': '1197979', 'lemma': 'э+кстра'},\n",
       "  'эле+ктрык': {'id': '1192920', 'lemma': 'эле+ктрык'},\n",
       "  'электры+к': {'id': '1192920', 'lemma': 'эле+ктрык'}}}"
      ]
     },
     "execution_count": 98,
     "metadata": {},
     "output_type": "execute_result"
    }
   ],
   "source": [
    "# <Paradigm tag=\"A0\">\n",
    "\n",
    "for k in tags['A0'].keys():\n",
    "    print(k)\n",
    "\n",
    "tags['A0 "
   ]
  },
  {
   "cell_type": "markdown",
   "id": "db97f8c1-33a0-44cc-a9a2-c2372a5e0ae6",
   "metadata": {},
   "source": [
    "### `Form` tag"
   ]
  },
  {
   "cell_type": "code",
   "execution_count": 80,
   "id": "1397e5b6-a79e-4fb2-b651-e20aad66623e",
   "metadata": {},
   "outputs": [
    {
     "name": "stdout",
     "output_type": "stream",
     "text": [
      "['MNS', 'MGS', 'MDS', 'MAS', 'MIS', 'MLS', 'NNS', 'NGS', 'NDS', 'NAS', 'NIS', 'NLS', 'FNS', 'FGS', 'FDS', 'FAS', 'FIS', 'FLS', 'PNP', 'PGP', 'PDP', 'PAP', 'PIP', 'PLP', 'R', '']\n"
     ]
    }
   ],
   "source": [
    "print(alltags['A']['fortags'])"
   ]
  },
  {
   "cell_type": "markdown",
   "id": "ba3563f8-e535-4d4a-a408-11877abfa7d4",
   "metadata": {},
   "source": [
    "Features:\n",
    "- `Gender` {Род}\n",
    "    - `Fem`- feminine {жаночы}\n",
    "    - `Masc` - masculine {мужчынскі}\n",
    "    - `Neut` - neutral {ніякі}\n",
    "- `Case` {Склон}\n",
    "    - `Acc` - Accusative {Вінавальны}\n",
    "    - `Dat` - Dative {Давальны}\n",
    "    - `Gen` - Genitive {Родны}\n",
    "    - `Ins` - Instrumental {Творны}\n",
    "    - `Loc` - Locative {Месны}\n",
    "    - `Nom` - Nominative {Назоўны}\n",
    "    - (i) Vocative not provided in NCorpus \n",
    "- `Number` {Лік}\n",
    "    - `Sing` - singular {адзіночны}\n",
    "    - `Plur` - plural {множны}\n",
    "\n",
    "Two versions of a word can be provided with identical form tags if the word can differ based on the noun's animacy. In such cases `options` parameter specifies animacy.\n",
    "\n",
    "NCorp Tag pattern | Notes | Feature | Value \n",
    "----- | ----- | ----- | ----- \n",
    "`F..` | = Feminine | Gender | Fem\n",
    "`M..` | = Masculine | Gender | Masc\n",
    "`N..` | = Neutral | Gender | Neut\n",
    "`..S` | = Singular | Number | Sing\n",
    "`P.P` | = Plural & genderless | Number | Plur\n",
    "`.A.` | = Accusative | Case | Acc\n",
    "`.D.` | = Dative | Case | Dat\n",
    "`.G.` | = Genitive | Case | Gen\n",
    "`.I.` | = Instrumental | Case | Ins\n",
    "`.L.` | = Locative | Case | Loc\n",
    "`.N.` | = Nominative | Case | Nom\n",
    "`R` | Adjective as adverb, 3 instances | | "
   ]
  },
  {
   "cell_type": "code",
   "execution_count": 31,
   "id": "1a63298f-c053-491e-ba90-f46f03d515e5",
   "metadata": {},
   "outputs": [
    {
     "name": "stdout",
     "output_type": "stream",
     "text": [
      "{'бязму+жне': {'id': '1270595', 'lemma': 'бязму+жняя'}, 'наваце+льна': {'id': '1195883', 'lemma': 'наваце+льная'}, 'няце+льна': {'id': '1283274', 'lemma': 'няце+льная'}, 'паўторнаро+дзяча': {'id': '1196402', 'lemma': 'паўторнаро+дзячая'}}\n"
     ]
    }
   ],
   "source": [
    "# <Form tag=\"R\">\n",
    "\n",
    "for k in tags.keys():\n",
    "    if k.startswith('A'):\n",
    "        for t in tags[k].keys():\n",
    "            if t == 'R':               \n",
    "                print(tags[k][t])"
   ]
  },
  {
   "cell_type": "code",
   "execution_count": 51,
   "id": "1a519bac-51c9-4852-9c74-07a502eec237",
   "metadata": {},
   "outputs": [
    {
     "name": "stdout",
     "output_type": "stream",
     "text": [
      "A0\n",
      "{'апа+ш': {'id': '1193572', 'lemma': 'апа+ш'}, 'бардо+': {'id': '1140055', 'lemma': 'бардо+'}, 'бекар': {'id': '1140068', 'lemma': 'бекар'}, 'бемо+ль': {'id': '1140069', 'lemma': 'бемо+ль'}, 'бру+та': {'id': '1193837', 'lemma': 'бру+та'}, 'бу+ф': {'id': '1140070', 'lemma': 'бу+ф'}, 'бэ+ж': {'id': '1192912', 'lemma': 'бэ+ж'}, 'гафрэ': {'id': '1140071', 'lemma': 'гафрэ'}, 'дум-ду+м': {'id': '1194542', 'lemma': 'дум-ду+м'}, 'лю+кс': {'id': '1192913', 'lemma': 'лю+кс'}, 'мадэ+рн': {'id': '1192914', 'lemma': 'мадэ+рн'}, 'мідзі': {'id': '1140056', 'lemma': 'мідзі'}, 'міні': {'id': '1140057', 'lemma': 'міні'}, 'не+та': {'id': '1140059', 'lemma': 'не+та'}, 'но+н-стоп': {'id': '1196120', 'lemma': 'но+н-стоп'}, 'перва+нш': {'id': '1196482', 'lemma': 'перва+нш'}, 'піке+': {'id': '1140060', 'lemma': 'піке+'}, 'суахі+лі': {'id': '1140063', 'lemma': 'суахі+лі'}, 'фрэ+з': {'id': '1140064', 'lemma': 'фрэ+з'}, 'ха+кі': {'id': '1140066', 'lemma': 'ха+кі'}, 'э+кстра': {'id': '1197979', 'lemma': 'э+кстра'}, 'эле+ктрык': {'id': '1192920', 'lemma': 'эле+ктрык'}, 'электры+к': {'id': '1192920', 'lemma': 'эле+ктрык'}}\n"
     ]
    }
   ],
   "source": [
    "# <Form tag=\"\">\n",
    "\n",
    "for k in tags.keys():\n",
    "    if k.startswith('A'):\n",
    "        for t in tags[k].keys():\n",
    "            if not t:               \n",
    "                print(k) # form tags are empty for 'A0' paradigm tag\n",
    "                print(tags[k][t])"
   ]
  },
  {
   "cell_type": "markdown",
   "id": "5a6c703f-c61e-455e-80df-dfe9082683dd",
   "metadata": {},
   "source": [
    "## Conjunction"
   ]
  },
  {
   "cell_type": "markdown",
   "id": "41ea4e74-0387-4a6c-8a59-1dc9b0b68ae6",
   "metadata": {},
   "source": [
    "POS value: `CCONJ` - conjunction {злучнік}"
   ]
  },
  {
   "cell_type": "code",
   "execution_count": 100,
   "id": "45f3fd4f-2a5c-43f7-9c5c-f8db57ed7a37",
   "metadata": {},
   "outputs": [
    {
     "name": "stdout",
     "output_type": "stream",
     "text": [
      "['CKX', 'CSX']\n"
     ]
    }
   ],
   "source": [
    "print(alltags['C']['partags'])"
   ]
  },
  {
   "cell_type": "markdown",
   "id": "c834437d-4123-4aad-903b-73720c94911f",
   "metadata": {},
   "source": [
    "`Paradigm` tag features:\n",
    "- `ConjType` {Тып} - conjunction type (not found in HSE treebank)\n",
    "    - `Crd`- coordinating {злучальны}\n",
    "    - `Sub` - subordinating {падпарадкавальны}\n",
    "\n",
    "Subtypes are indicated in the documentation but not provided in XML.\n",
    "\n",
    "NCorp Tag | Notes | POS | ConjType \n",
    "-- | -- | -- | --\n",
    "CKX | = Conjunction Coordinating (no subtype tag)  | CCONJ | Crd\n",
    "CSX | = Conjunction Subordinating (no subtype tag) | CCONJ | Sub\n",
    "\n",
    "`Form` tags are absent since the PoS is indeclinable."
   ]
  },
  {
   "cell_type": "code",
   "execution_count": 166,
   "id": "e4884990-6fd4-4795-a1e9-affc1c411bec",
   "metadata": {},
   "outputs": [
    {
     "name": "stdout",
     "output_type": "stream",
     "text": [
      "['']\n"
     ]
    }
   ],
   "source": [
    "print(alltags['C']['fortags'])"
   ]
  },
  {
   "cell_type": "markdown",
   "id": "3969ddff-58c1-47a4-b696-b1263418c494",
   "metadata": {},
   "source": [
    "## Particle"
   ]
  },
  {
   "cell_type": "markdown",
   "id": "3daa6969-4e3f-4929-96f9-f4cd66c6b5d1",
   "metadata": {
    "jp-MarkdownHeadingCollapsed": true
   },
   "source": [
    "- POS value: `PART` - particle {часціца}\n",
    "- Files: `E.xml`\n",
    "\n",
    "No features"
   ]
  },
  {
   "cell_type": "code",
   "execution_count": 165,
   "id": "0274b587-5c81-4d08-9312-603e49a0988f",
   "metadata": {},
   "outputs": [
    {
     "name": "stdout",
     "output_type": "stream",
     "text": [
      "{'partags': ['E'], 'fortags': ['']}\n"
     ]
    }
   ],
   "source": [
    "print(alltags['E'])"
   ]
  },
  {
   "cell_type": "markdown",
   "id": "a1b94945-65ef-4a0f-ac38-03d1f7736001",
   "metadata": {},
   "source": [
    "## Preposition"
   ]
  },
  {
   "cell_type": "markdown",
   "id": "27126cae-cde0-4897-b036-ae703e071dbd",
   "metadata": {},
   "source": [
    "- POS value: `ADP` - preposition (adposition) {прыназоўнік}\n",
    "- Files: `I.xml`\n",
    "\n",
    "No features"
   ]
  },
  {
   "cell_type": "code",
   "execution_count": 168,
   "id": "cd7d436f-a00e-4b49-b313-3eac932deeaf",
   "metadata": {},
   "outputs": [
    {
     "name": "stdout",
     "output_type": "stream",
     "text": [
      "{'partags': ['I'], 'fortags': ['']}\n"
     ]
    }
   ],
   "source": [
    "print(alltags['I'])"
   ]
  },
  {
   "cell_type": "markdown",
   "id": "b19fef56-1f73-45a7-9ee2-4ca937148054",
   "metadata": {},
   "source": [
    "## Numeral"
   ]
  },
  {
   "cell_type": "markdown",
   "id": "c6513cf4-66d4-4c41-8f29-02febfdd2388",
   "metadata": {},
   "source": [
    "- POS value: `NUM` - numeral {лічэбнік}\n",
    "- Files: `M.xml`"
   ]
  },
  {
   "cell_type": "markdown",
   "id": "b48aabc3-b761-4733-84aa-42daa07dcd42",
   "metadata": {},
   "source": [
    "### `Paradigm` tag"
   ]
  },
  {
   "cell_type": "code",
   "execution_count": 181,
   "id": "d70bafd0-a97f-4c9c-9d63-6cc6c0f332d3",
   "metadata": {},
   "outputs": [
    {
     "name": "stdout",
     "output_type": "stream",
     "text": [
      "['M0CS', 'MACS', 'MAKS', 'MAOC', 'MAOS', 'MNCC', 'MNCS', 'MNKS', 'MXCS']\n"
     ]
    }
   ],
   "source": [
    "print(alltags['M']['partags'])"
   ]
  },
  {
   "cell_type": "markdown",
   "id": "b4e68631-dfce-45c9-bbd0-9c3c498bed2e",
   "metadata": {},
   "source": [
    "Features:\n",
    "- `InflClass` {Словазмяненне} \n",
    "    - `Ntype` - noun-like {як у назоўніка} \n",
    "    - `Atype` - adjective-like {як у прыметніка}\n",
    "    - `Ind` - indeclinable {нескланяльны}\n",
    "- `NumType` {Значэнне} - numeral type by function, added new types to HSE treebank\n",
    "    - `Card` - cardinal {колькасны}\n",
    "    - `Ord` - ordinal {парадкавы}\n",
    "    - `Col` - collective {зборны}\n",
    "    - `Frac` - fraction {дробавы}\n",
    "- `NumForm` {Форма} - numeral type by complexity, not in HSE treebank`\n",
    "    - `Sim` - simple {просты}\n",
    "    - `Com` - complex {складаны}\n",
    "\n",
    "NCorp Tag | Notes | PoS | InflClass | NumType | NumForm\n",
    "----- | ----- | ----- | ----- | ----- | ----- \n",
    "M0CS | = Numeral indeclinable cardinal simple | NUM | Ind | Card | Sim\n",
    "MACS | = Numeral adjective-like cardinal simple | NUM | Atype | Card | Sim\n",
    "MAKS | = Numeral adjective-like collective simple | NUM | Atype | Col | Sim\n",
    "MAOC | = Numeral adjective-like ordinal complex | NUM | Atype | Ord | Com\n",
    "MAOS | = Numeral adjective-like ordinal simple | NUM | Atype | Ord | Sim\n",
    "MNCC | = Numeral noun-like cardinal complex | NUM | Ntype | Card | Com\n",
    "MNCS | = Numeral noun-like cardinal simple | NUM | Ntype| Card | Sim\n",
    "MNKS | = Numeral adjective-like collective simple | NUM | Atype | Col | Sim\n",
    "MXCS | = Numeral (no NumType tag) cardinal simple, 1 instance | NUM |  | Card | Sim"
   ]
  },
  {
   "cell_type": "markdown",
   "id": "686c9b9c-d700-4320-80a6-dad2637ba894",
   "metadata": {},
   "source": [
    "### `Form` tag"
   ]
  },
  {
   "cell_type": "code",
   "execution_count": 182,
   "id": "9388aff8-5800-453e-a8fd-a20a3b8f533f",
   "metadata": {},
   "outputs": [
    {
     "name": "stdout",
     "output_type": "stream",
     "text": [
      "['FNP', 'FGP', 'FDP', 'FAP', 'FIP', 'FLP', 'MNP', 'MGP', 'MDP', 'MAP', 'MIP', 'MLP', 'NNP', 'NGP', 'NDP', 'NAP', 'NIP', 'NLP', 'PNP', 'PGP', 'PDP', 'PAP', 'PIP', 'PLP', 'MNS', 'MGS', 'MDS', 'MAS', 'MIS', 'MLS', 'FNS', 'FGS', 'FDS', 'FAS', 'FIS', 'FLS', 'NNS', 'NGS', 'NDS', 'NAS', 'NIS', 'NLS', '0', 'XXX']\n"
     ]
    }
   ],
   "source": [
    "print(alltags['M']['fortags'])"
   ]
  },
  {
   "cell_type": "markdown",
   "id": "25ccc71d-0530-41ac-bf53-1afc6d2bbc9e",
   "metadata": {},
   "source": [
    "Features:\n",
    "- `Gender` {Род}\n",
    "    - `Fem`- feminine {жаночы}\n",
    "    - `Masc` - masculine {мужчынскі}\n",
    "    - `Neut` - neutral {ніякі}\n",
    "- `InflClass` {Словазмяненне} \n",
    "    - `Ind` - indeclinable {нескланяльны}\n",
    "- `Case` {Склон}\n",
    "    - `Acc` - Accusative {Вінавальны}\n",
    "    - `Dat` - Dative {Давальны}\n",
    "    - `Gen` - Genitive {Родны}\n",
    "    - `Ins` - Instrumental {Творны}\n",
    "    - `Loc` - Locative {Месны}\n",
    "    - `Nom` - Nominative {Назоўны}\n",
    "- `Number` {Лік}\n",
    "    - `Sing` - singular {адзіночны}\n",
    "    - `Plur` - plural {множны}\n",
    "\n",
    "NCorp Tag pattern | Notes | Feature | Value \n",
    "----- | ----- | ----- | ----- \n",
    "`F..`| = Feminine | Gender | Fem\n",
    "`M..` | = Masculine | Gender | Masc\n",
    "`N..` | = Neutral | Gender | Neut\n",
    "`..S` | = Singular | Number | Sing\n",
    "`P.P` | = Plural & genderless | Number | Plur\n",
    "`.A.` | = Accusative | Case | Acc\n",
    "`.D.` | = Dative | Case | Dat\n",
    "`.G.` | = Genitive | Case | Gen\n",
    "`.I.` | = Instrumental | Case | Ins\n",
    "`.L.` | = Locative | Case | Loc\n",
    "`.N.` | = Nominative | Case | Nom\n",
    "`0` | = Indeclinable (all `M0CS`) | InflClass | Ind\n",
    "`XXX` | Unknown, = `MXCS`| |"
   ]
  },
  {
   "cell_type": "markdown",
   "id": "dd509cb7-2c52-4b3d-aad8-cb1f0377e15e",
   "metadata": {},
   "source": [
    "## Nouns"
   ]
  },
  {
   "cell_type": "markdown",
   "id": "c10ad864-5590-489b-9aa0-228ceee2633e",
   "metadata": {},
   "source": [
    "POS values: \n",
    "- `NOUN` - noun {агульны назоўнік}. Files: `N1.xml`, `N2.xml`, `N3.xml`\n",
    "- `PROPN` - proper noun {уласны назоўнік}. Files: `NP.xml`"
   ]
  },
  {
   "cell_type": "markdown",
   "id": "a4a3c504-7bf0-4c5b-9842-37812b27f291",
   "metadata": {},
   "source": [
    "### `Paradigm` tag"
   ]
  },
  {
   "cell_type": "code",
   "execution_count": 185,
   "id": "a2211655-4acc-4e7f-a2f4-033243068314",
   "metadata": {},
   "outputs": [
    {
     "name": "stdout",
     "output_type": "stream",
     "text": [
      "['NCIINN0', 'NCIINF2', 'NCIINM1', 'NCIINN1', 'NCIINP7', 'NCAPNM1', 'NCIINF3', 'NCAPNF2', 'NCAPNM2', 'NCAINM1', 'NCIIBF3', 'NCAPNS5', 'NCIIBM0', 'NCIIBM1', 'NCIIBN1', 'NCIINS5', 'NCAIBM1', 'NCAPBM1', 'NCIINF0', 'NCAINF2', 'NCIIBF2', 'NCIIBN0', 'NCAPBF2', 'NCIINU5', 'NCAIBF2', 'NCAINU5', 'NCAINS5', 'NCAINF0', 'NCAINP7', 'NCAINN4', 'NCIINM0', 'NCAINM0', 'NCAINN1', 'NCAPNM0', 'NCIIBF0', 'NCAPNN0', 'NCIINM6', 'NCAPNP7', 'NCIINM2', 'NCAPNN1', 'NCAPNF3', 'NCAPNU5', 'N', 'NCAPNF0', 'NCAPNN4', 'NCAINM2', 'NCAINF3', 'NCAPNM6', 'NCIIBP7', 'NCIINN4', 'NCIINP0', 'NCAPBM0', 'NCAINN0', 'NCAPNP0', 'NCAPNF4', 'NCAPNM4', 'NPIIBF0', 'NPAPNM1', 'NPIINP7', 'NPIINM1', 'NPIINN1', 'NPIINF3', 'NPIINF2', 'NPIINM0', 'NPIINF0', 'NPAPNS5', 'NPIINS5', 'NPAPNF2', 'NPAPNM0', 'NPIINM2', 'NPIIBM1', 'NPIINU5', 'NPAPNM2', 'NPAPNF0', 'NPIINN0', 'NPAPNM6', 'NPIINM6', 'NPAPNF3', 'NPIIBN0', 'NPIINF1', 'NPAINF2', 'NPAINM6', 'NPIINP0']\n"
     ]
    }
   ],
   "source": [
    "print(alltags['N']['partags'])"
   ]
  },
  {
   "cell_type": "markdown",
   "id": "c9da9d94-dfae-42d3-90a1-83e50b427dec",
   "metadata": {},
   "source": [
    "`POS` value is determined by the 2nd character in the abbrebiation:\n",
    "- `NC_____` is tagged with `NOUN`\n",
    "- `NP_____` is tagged with `PROPN`\n",
    "- In rare cases of `N` value it is assumed it's a common `NOUN`"
   ]
  },
  {
   "cell_type": "markdown",
   "id": "3c0adebe-6adb-4cf3-9e63-76e79b0eb9d1",
   "metadata": {},
   "source": [
    "Features:\n",
    "- `Animacy` {Адушаўлёнасць}\n",
    "    - `Anim` - animate {адушаўлёны}\n",
    "    - `Inan` - inanimate {неадушаўлёны} \n",
    "- `Personal` {Асабовасць} - not in HSE features\n",
    "    - `Per` - personal {асабовы}\n",
    "    - `Imp`- impersonal {неасабовы}\n",
    "- `Abbr` {Скарачэнне}\n",
    "    - `Yes` - abbreviated {скарачэнне}\n",
    "- `Gender` {Род}\n",
    "    - `Fem`- feminine {жаночы}\n",
    "    - `Masc` - masculine {мужчынскі}\n",
    "    - `Neut` - neutral {ніякі}\n",
    "    - `Com` - common {агульны}\n",
    "- `InflClass` {Скланенне} \n",
    "    - `1d` - 1 substantive declension {1 скланенне}\n",
    "    - `2d` - 2 substantive declension {2 скланенне}\n",
    "    - `3d` - 3 substantive declension {3 скланенне}\n",
    "    - `Atype` - adjective-type {ад’ектыўны тып скланення}\n",
    "    - `Ind` - indeclinable {нескланяльны}\n",
    "    - `Com` - combined {рознаскланяльны}\n",
    "    - `Mix` - mixed {змешаны тып скланення}\n",
    "\n",
    "NCorp Pattern | Notes | Feature | Value \n",
    "----- | ----- | ----- | ----- \n",
    "`N.A....` | = Animate | Animacy | Anim\n",
    "`N.I....` | = Inanimate | Animacy | Inan\n",
    "`N..P...` | = Personal | Personal | Per\n",
    "`N..I...` | = Impersonal | Personal | Imp\n",
    "`N...B..` | = Abbreviation | Abbr | Yes\n",
    "`N....C.` | = Common gender | Gender | Com\n",
    "`N....F.` | = Female | Gender | Fem\n",
    "`N....M.` | = Masculine | Gender | Masc\n",
    "`N....N.` | = Neutral gender | Gender | Neut\n",
    "`N....S5` | = Adjective-type inflection (substantivated), gender indicated in `Form` tag| InflClass | Atype\n",
    "`N.....1` | 1 declension | InflClass | 1d\n",
    "`N.....2` | 2 declension | InflClass | 2d\n",
    "`N.....3` | 3 declension | InflClass | 3d\n",
    "`N.....0` | indeclinable | InflClass | Ind\n",
    "`N.....4` | combined declension | InflClass | Com\n",
    "`N.....6` | mixed declension | InflClass | Mix\n",
    "`N....P.`, `N....UP.`, `N......7`| = Plural only, has no gender||  "
   ]
  },
  {
   "cell_type": "markdown",
   "id": "606052fa-b580-40e8-9d94-1e14e7913ab2",
   "metadata": {},
   "source": [
    "### `Form` tag"
   ]
  },
  {
   "cell_type": "code",
   "execution_count": 186,
   "id": "285be453-c8b3-43e1-976e-f040507611dc",
   "metadata": {},
   "outputs": [
    {
     "name": "stdout",
     "output_type": "stream",
     "text": [
      "['NS', 'GS', 'DS', 'AS', 'IS', 'LS', 'NP', 'GP', 'DP', 'AP', 'IP', 'LP', 'VS', 'MNS', 'MGS', 'MDS', 'MAS', 'MIS', 'MLS', 'FNS', 'FGS', 'FDS', 'FAS', 'FIS', 'FLS', 'PNP', 'PGP', 'PDP', 'PAP', 'PIP', 'PLP', 'NNS', 'NGS', 'NDS', 'NAS', 'NIS', 'NLS']\n"
     ]
    }
   ],
   "source": [
    "print(alltags['N']['fortags'])"
   ]
  },
  {
   "cell_type": "markdown",
   "id": "6eb58549-bfca-4a6a-a6bc-c1a2cbd11d00",
   "metadata": {},
   "source": [
    "Substantivated nouns indicate gender in form tag, some have one gender variation and others have multiple in the case of professions etc.  "
   ]
  },
  {
   "cell_type": "markdown",
   "id": "f2c00976-0e73-4923-a4f2-f3cfc3a5414b",
   "metadata": {},
   "source": [
    "Features:\n",
    "- `Gender` {Род}\n",
    "    - `Fem`- feminine {жаночы}\n",
    "    - `Masc` - masculine {мужчынскі}\n",
    "    - `Neut` - neutral {ніякі}\n",
    "- `Case` {Склон}\n",
    "    - `Acc` - Accusative {Вінавальны}\n",
    "    - `Dat` - Dative {Давальны}\n",
    "    - `Gen` - Genitive {Родны}\n",
    "    - `Ins` - Instrumental {Творны}\n",
    "    - `Loc` - Locative {Месны}\n",
    "    - `Nom` - Nominative {Назоўны}\n",
    "- `Number` {Лік}\n",
    "    - `Sing` - singular {адзіночны}\n",
    "    - `Plur` - plural {множны}\n",
    "\n",
    "NCorp Tag pattern | Notes | Feature | Value \n",
    "----- | ----- | ----- | ----- \n",
    "`.S`, `..S` | = Singular | Number | Sing\n",
    "`.P`, `P.P` | = Plural | Number | Plur\n",
    "`A.`, `.A.`  | = Accusative | Case | Acc\n",
    "`D.`, `.D.` | = Dative | Case | Dat\n",
    "`G.`, `.G.` | = Genitive | Case | Gen\n",
    "`I.`, `.I.` | = Instrumental | Case | Ins\n",
    "`L.`, `.L.` | = Locative | Case | Loc\n",
    "`N.`, `.N.` | = Nominative | Case | Nom\n",
    "`F..` | = Feminine | Gender | Fem\n",
    "`M..` | = Masculine | Gender | Masc\n",
    "`N..` | = Neutral | Gender | Neut"
   ]
  },
  {
   "cell_type": "markdown",
   "id": "9f21d78e-401a-4273-9907-6c67e07e2c49",
   "metadata": {},
   "source": [
    "## Participle"
   ]
  },
  {
   "cell_type": "markdown",
   "id": "869d4691-6c5f-4c08-8545-43908634417b",
   "metadata": {},
   "source": [
    "- POS value: `VERB` - verb {займеннік} with `VerbForm = Part`\n",
    "- Files: `P.xml`"
   ]
  },
  {
   "cell_type": "code",
   "execution_count": 194,
   "id": "9608c06a-a340-4a6b-b360-b85d82735985",
   "metadata": {},
   "outputs": [
    {
     "name": "stdout",
     "output_type": "stream",
     "text": [
      "['PAPP', 'PARM', 'PPPM', 'PPPP', 'PPRM']\n"
     ]
    }
   ],
   "source": [
    "print(alltags['P']['partags'])"
   ]
  },
  {
   "cell_type": "markdown",
   "id": "0463086c-266a-4d3d-b1eb-af2047395772",
   "metadata": {},
   "source": [
    "### `Paradigm` tag"
   ]
  },
  {
   "cell_type": "markdown",
   "id": "1d6ae9cb-1419-4a23-b902-d95857972663",
   "metadata": {},
   "source": [
    "Features:\n",
    "- `Voice` {Стан}\n",
    "    - `Act` - active {незалежны}\n",
    "    - `Pass` - passive {залежны}\n",
    "- `Tense` {Час}\n",
    "    - `Past` - past {прошлы}\n",
    "    - `Pres` - present {цяперашні}\n",
    "- `Aspect` {Трыванне}\n",
    "    - `Imp` - imperfect {незакончанае}\n",
    "    - `Perf` - perfect {закончанае}\n",
    "\n",
    "NCorpus tag | Voice | Tense | Aspect\n",
    "-|-|-|-\n",
    "PAPP | Act | Past | Perf\n",
    "PARM | Act | Pres | Imp\n",
    "PPPM | Pass | Past | Imp\n",
    "PPPP | Pass | Past | Perf\n",
    "PPRM | Pass | Pres | Imp"
   ]
  },
  {
   "cell_type": "markdown",
   "id": "22b2b5d7-d36c-4c51-a8be-37a9a5e28891",
   "metadata": {},
   "source": [
    "### `Form` tag"
   ]
  },
  {
   "cell_type": "code",
   "execution_count": 196,
   "id": "6f32e9ad-1a96-443f-8147-6da8446bb0cd",
   "metadata": {},
   "outputs": [
    {
     "name": "stdout",
     "output_type": "stream",
     "text": [
      "['FAS', 'FDS', 'FGS', 'FHX', 'FIS', 'FLS', 'FNS', 'MAS', 'MDS', 'MGS', 'MHX', 'MIS', 'MLS', 'MNS', 'NAS', 'NDS', 'NGS', 'NHX', 'NIS', 'NLS', 'NNS', 'PAP', 'PDP', 'PGP', 'PIP', 'PLP', 'PNP', 'R', 'XAP', 'XDP', 'XGP', 'XIP', 'XLP', 'XNP']\n"
     ]
    }
   ],
   "source": [
    "alltags['P']['fortags'].sort()\n",
    "print(alltags['P']['fortags'])"
   ]
  },
  {
   "cell_type": "markdown",
   "id": "647129b5-9bcc-4950-be35-47664c3c3162",
   "metadata": {},
   "source": [
    "Participle form tags are similar to adjective forms, except `X.P` pattern that is used instead of `P.P` for plural.\n",
    "\n",
    "Features:\n",
    "- `Gender` {Род}\n",
    "    - `Fem`- feminine {жаночы}\n",
    "    - `Masc` - masculine {мужчынскі}\n",
    "    - `Neut` - neutral {ніякі}\n",
    "- `Case` {Склон}\n",
    "    - `Acc` - Accusative {Вінавальны}\n",
    "    - `Dat` - Dative {Давальны}\n",
    "    - `Gen` - Genitive {Родны}\n",
    "    - `Ins` - Instrumental {Творны}\n",
    "    - `Loc` - Locative {Месны}\n",
    "    - `Nom` - Nominative {Назоўны}\n",
    "    - (i) Vocative not provided in NCorpus \n",
    "- `Number` {Лік}\n",
    "    - `Sing` - singular {адзіночны}\n",
    "    - `Plur` - plural {множны}\n",
    "\n",
    "Two versions of a word can be provided with identical form tags if the word can differ based on the noun's animacy. In such cases `options` parameter specifies animacy.\n",
    "\n",
    "NCorp Tag pattern | Notes | Feature | Value \n",
    "----- | ----- | ----- | ----- \n",
    "`F..` | = Feminine | Gender | Fem\n",
    "`M..` | = Masculine | Gender | Masc\n",
    "`N..` | = Neutral | Gender | Neut\n",
    "`..S` | = Singular | Number | Sing\n",
    "`X.P` | = Plural & genderless | Number | Plur\n",
    "`.A.` | = Accusative | Case | Acc\n",
    "`.D.` | = Dative | Case | Dat\n",
    "`.G.` | = Genitive | Case | Gen\n",
    "`.I.` | = Instrumental | Case | Ins\n",
    "`.L.` | = Locative | Case | Loc\n",
    "`.N.` | = Nominative | Case | Nom\n",
    "`R` | Short form | | "
   ]
  },
  {
   "cell_type": "markdown",
   "id": "7b5643c7-dee9-4fbe-841c-f0ebcef46c98",
   "metadata": {},
   "source": [
    "## Adverbs"
   ]
  },
  {
   "cell_type": "markdown",
   "id": "449e412b-4d12-4e96-9ea4-436680e14574",
   "metadata": {},
   "source": [
    "- POS value: `ADV` - adverb {прыслоўе} \n",
    "- Files: `R.xml`"
   ]
  },
  {
   "cell_type": "markdown",
   "id": "ea1a75d5-916a-4ede-ac60-251a8a239633",
   "metadata": {},
   "source": [
    "### `Paradigm` tag"
   ]
  },
  {
   "cell_type": "code",
   "execution_count": 198,
   "id": "12931d42-1d46-4b8f-a082-9d52bd6ec303",
   "metadata": {},
   "outputs": [
    {
     "name": "stdout",
     "output_type": "stream",
     "text": [
      "['RA', 'RG', 'RM', 'RN', 'RS', 'RV', 'RX']\n"
     ]
    }
   ],
   "source": [
    "alltags['R']['partags'].sort()\n",
    "print(alltags['R']['partags'])"
   ]
  },
  {
   "cell_type": "markdown",
   "id": "ac986a15-81c4-47aa-bdf6-c1645f3fe49e",
   "metadata": {},
   "source": [
    "Features:\n",
    "- `DerFrom` - derivation pattern {Спосаб утварэння} - not found in UD \n",
    "    - `Adj` - from adjective {ад прыметнікаў}\n",
    "    - `Conv`- from converb {ад дзеепрыслоўяў}\n",
    "    - `Num` - from numeral {ад лічэбнікаў}\n",
    "    - `Noun` - from noun {ад назоўнікаў}\n",
    "    - `Pron` - from pronoun {ад займеннікаў}\n",
    "    - `Verb` - from verb {ад дзеясловаў}\n",
    "\n",
    "More derivation types are documented (from particles, prepositions), but there are no occurences in the data."
   ]
  },
  {
   "cell_type": "markdown",
   "id": "68c87abc-66e7-421e-b166-5bbe60015ba7",
   "metadata": {},
   "source": [
    "### `From` tag"
   ]
  },
  {
   "cell_type": "code",
   "execution_count": 199,
   "id": "85048968-5fe9-4685-9ea5-5dcf0405bdd4",
   "metadata": {},
   "outputs": [
    {
     "name": "stdout",
     "output_type": "stream",
     "text": [
      "['C', 'P', 'S']\n"
     ]
    }
   ],
   "source": [
    "alltags['R']['fortags'].sort()\n",
    "print(alltags['R']['fortags'])"
   ]
  },
  {
   "cell_type": "markdown",
   "id": "3aa8efca-3aef-45df-8fa0-62d36527357b",
   "metadata": {},
   "source": [
    "Features:\n",
    "- `Degree` {Ступень параўнання}\n",
    "    - `Pos` - positive {станоўчая}, `tag = \"P\"`\n",
    "    - `Cmp` - comparative {вышэйшая}, `tag = \"C\"`\n",
    "    - `Sup` - superlative {найвышэйшая}, `tag = \"S\"`"
   ]
  },
  {
   "cell_type": "markdown",
   "id": "1c4537c7-7aea-481b-be50-54ca2fd2383c",
   "metadata": {},
   "source": [
    "## Pronouns"
   ]
  },
  {
   "cell_type": "markdown",
   "id": "e8ed4bce-c0b4-4b5b-a215-bf8f7c384c13",
   "metadata": {},
   "source": [
    "- POS value: `PRON` - pronoun {займеннік}\n",
    "- Files: `S.xml`"
   ]
  },
  {
   "cell_type": "markdown",
   "id": "9bf1fbf7-2fd3-43ed-bf5e-f3937136814f",
   "metadata": {},
   "source": [
    "### `Paradigm` tag"
   ]
  },
  {
   "cell_type": "code",
   "execution_count": 204,
   "id": "6a96b849-164f-45dc-a02d-d23027e34e72",
   "metadata": {},
   "outputs": [
    {
     "name": "stdout",
     "output_type": "stream",
     "text": [
      "['S0E0', 'S0F0', 'S0S0', 'SAD0', 'SAE0', 'SAF0', 'SAF3', 'SAL0', 'SAN0', 'SANX', 'SAS0', 'SNE0', 'SNF0', 'SNL0', 'SNN0', 'SNP1', 'SNP2', 'SNP3', 'SNR0']\n"
     ]
    }
   ],
   "source": [
    "alltags['S']['partags'].sort()\n",
    "print(alltags['S']['partags'])"
   ]
  },
  {
   "cell_type": "markdown",
   "id": "5e1a2aa0-d15c-40b7-9ac2-cd0fead2b244",
   "metadata": {},
   "source": [
    "Features:\n",
    "- `InflClass` {Словазмяненне} \n",
    "    - `Ntype` - noun-like {як у назоўніка} \n",
    "    - `Atype` - adjective-like {як у прыметніка}\n",
    "    - `Ind` - indeclinable {нескланяльны}, always has `Person = 0`\n",
    "- `PronType` {Pronoun type} [UD documentation](https://universaldependencies.org/u/feat/PronType.html)\n",
    "    - `Prs` - personal, reflexive, possessive {асабовы, зваротны, прыналежны}, see `Poss` & `Reflex` features\n",
    "    - `Rcp` - reciprocal/reflexive {зваротны}\n",
    "    - `Dem` - demonstrative {указальны}\n",
    "    - `Emp` - emphatic/intensive {азначальны}\n",
    "    - `Int` - interrogative-relative {пытальна–адносны}\n",
    "    - `Neg` - negative {адмоўны}\n",
    "    - `Ind` - indefinite {няпэўны}\n",
    "- `Poss` possessive {прыналежны}\n",
    "    - `Yes`\n",
    "- `Reflex` reflexive {зваротны}\n",
    "    - `Yes`\n",
    "- `Person` {Асоба}\n",
    "    - `1` - first {першая}\n",
    "    - `2` - second {другая}\n",
    "    - `3` - third {трэцяя}\n",
    "    - `0` - impersonal {безасабовы}\n",
    " \n",
    "NCorp Tag |\tNotes |\tPOS | InflClass | PronType | Person | Poss | Reflex\n",
    "-|-|-|-|-|-|-|-\n",
    "`S0E0` | = Pronoun indeclinable emphatic impersonal | PRON | Ind | Emp | 0 | |\n",
    "`S0F0` | = Pronoun indeclinable indefinite impersonal | PRON | Ind | Ind | 0 | |\n",
    "`S0S0` | = Pronoun indeclinable possessive impersonal | PRON | Ind | Prs | 0 | Yes |  \n",
    "`SAD0` | = Pronoun adjective-like demonstrative impersonal | PRON | Atype | Dem | 0 | |  \n",
    "`SAE0` | = Pronoun adjective-like emphatic impersonal | PRON | Atype | Emp | 0 | |\n",
    "`SAF0` | = Pronoun adjective-like indefinite impersonal  | PRON | Atype | Ind | 0 | |\n",
    "`SAF3` | = Pronoun adjective-like indefinite 3rd person  | PRON | Atype | Ind | 3 | |\n",
    "`SAL0` | = Pronoun adjective-like interrogative-relative impersonal | PRON | Atype | Int | 0 | |\n",
    "`SAN0` | = Pronoun adjective-like negative impersonal | PRON | Atype | Neg | 0 | |\n",
    "`SANX` | = Pronoun adjective-like negative (no person tag) | PRON | Atype | Neg | | | \n",
    "`SAS0` | = Pronoun adjective-like posessive impersonal | PRON | Atype | Prs | 0 | Yes | \n",
    "`SNE0` | = Pronoun noun-like emphatic impersonal | PRON | Ntype | Emp | 0 | |\n",
    "`SNF0` | = Pronoun noun-like indefinite impersonal | PRON | Ntype | Ind | 0 | |\n",
    "`SNL0` | = Pronoun noun-like interrogative-relative impersonal | PRON | Ntype | Int | 0 | |\n",
    "`SNN0` | = Pronoun noun-like negative impersonal | PRON | Ntype | Neg | 0 | | \n",
    "`SNP1` | = Pronoun noun-like personal 1st person | PRON | Ntype | Prs | 1 | |\n",
    "`SNP2` | = Pronoun noun-like personal 2nd person | PRON | Ntype | Prs | 2 | |\n",
    "`SNP3` | = Pronoun noun-like personal 3rd person | PRON | Ntype | Prs | 3 | |\n",
    "`SNR0` | = Pronoun noun-like reflexive impersonal | PRON | Ntype | Prs | 0 | | Yes"
   ]
  },
  {
   "cell_type": "markdown",
   "id": "a0dc87d1-9289-49d0-8d2a-56c21b09767f",
   "metadata": {},
   "source": [
    "### `Form` tag"
   ]
  },
  {
   "cell_type": "code",
   "execution_count": 205,
   "id": "9bfb6187-7106-4e7d-afa4-da1c3e7996ff",
   "metadata": {},
   "outputs": [
    {
     "name": "stdout",
     "output_type": "stream",
     "text": [
      "['0AP', '0AS', '0DP', '0DS', '0GP', '0GS', '0IP', '0IS', '0LP', '0LS', '0NP', '0NS', '1', 'FAS', 'FDS', 'FGS', 'FIS', 'FLS', 'FNS', 'MAS', 'MDS', 'MGS', 'MIS', 'MLS', 'MNS', 'NAS', 'NDS', 'NGS', 'NIS', 'NLS', 'NNS', 'XAP', 'XDP', 'XGP', 'XIP', 'XLP', 'XNP', 'XXX']\n"
     ]
    }
   ],
   "source": [
    "alltags['S']['fortags'].sort()\n",
    "print(alltags['S']['fortags'])"
   ]
  },
  {
   "cell_type": "markdown",
   "id": "b83a2bde-6c1f-44b3-ba1f-93e7645d73c6",
   "metadata": {},
   "source": [
    "Features:\n",
    "- `Gender` {Род}\n",
    "    - `Fem`- feminine {жаночы}\n",
    "    - `Masc` - masculine {мужчынскі}\n",
    "    - `Neut` - neutral {ніякі}\n",
    "- `Case` {Склон}\n",
    "    - `Acc` - Accusative {Вінавальны}\n",
    "    - `Dat` - Dative {Давальны}\n",
    "    - `Gen` - Genitive {Родны}\n",
    "    - `Ins` - Instrumental {Творны}\n",
    "    - `Loc` - Locative {Месны}\n",
    "    - `Nom` - Nominative {Назоўны}\n",
    "    - (i) Vocative not provided in NCorpus \n",
    "- `Number` {Лік}\n",
    "    - `Sing` - singular {адзіночны}\n",
    "    - `Plur` - plural {множны}\n",
    " \n",
    "NCorp Tag pattern | Notes | Feature | Value \n",
    "----- | ----- | ----- | ----- \n",
    "`0..` | Genderless | |\n",
    "`1..` | Indeclinable | |\n",
    "`F..` | = Feminine | Gender | Fem\n",
    "`M..` | = Masculine | Gender | Masc\n",
    "`N..` | = Neutral | Gender | Neut\n",
    "`..S` | = Singular | Number | Sing\n",
    "`X.P` | = Plural & genderless | Number | Plur\n",
    "`.A.` | = Accusative | Case | Acc\n",
    "`.D.` | = Dative | Case | Dat\n",
    "`.G.` | = Genitive | Case | Gen\n",
    "`.I.` | = Instrumental | Case | Ins\n",
    "`.L.` | = Locative | Case | Loc\n",
    "`.N.` | = Nominative | Case | Nom\n",
    "`XXX` | Unknown | | "
   ]
  },
  {
   "cell_type": "markdown",
   "id": "e6f30184-5ad1-4894-a628-076178e73135",
   "metadata": {},
   "source": [
    "## Verbs"
   ]
  },
  {
   "cell_type": "markdown",
   "id": "33879144-90a9-44a2-a7bf-c7641dcd0a4e",
   "metadata": {},
   "source": [
    "- POS value: `VERB` - verb {дзеяслоў}\n",
    "- Files: `V.xml`"
   ]
  },
  {
   "cell_type": "markdown",
   "id": "8477cf63-dc84-4758-a9a8-2b3ec199a2f7",
   "metadata": {},
   "source": [
    "### `Paradigm` tag"
   ]
  },
  {
   "cell_type": "code",
   "execution_count": 206,
   "id": "bb4ef13a-0742-4bf1-a530-2690437338b4",
   "metadata": {},
   "outputs": [
    {
     "name": "stdout",
     "output_type": "stream",
     "text": [
      "['VDMN1', 'VDMN2', 'VDMN3', 'VDPN1', 'VDPN2', 'VDPR1', 'VIMN1', 'VIMN2', 'VIMN3', 'VIMR1', 'VIMR2', 'VIPN', 'VIPN1', 'VIPN2', 'VIPR1', 'VIPR2', 'VTMN1', 'VTMN2', 'VTMR1', 'VTPN1', 'VTPN2', 'VTPN3', 'VTPR1', 'VTPR2', 'VXMN1', 'VXMN2', 'VXMR1', 'VXMR2', 'VXPN1', 'VXPN2', 'VXPN3', 'VXPR1', 'VXPR2']\n"
     ]
    }
   ],
   "source": [
    "alltags['V']['partags'].sort()\n",
    "print(alltags['V']['partags'])"
   ]
  },
  {
   "cell_type": "markdown",
   "id": "70a78273-feee-4444-b334-cfb424f6bc51",
   "metadata": {},
   "source": [
    "Features: \n",
    "- `SubCat` - transitivity {Пераходнасць}\n",
    "    - `Intr` - intransitive {непераходны}\n",
    "    - `Tran` - transitive {пераходны}\n",
    "- `Aspect` {Трыванне}\n",
    "    - `Imp` - imperfect {незакончанае}\n",
    "    - `Perf` - perfect {закончанае}\n",
    "- `Reflex` - reflexivity {Зваротнасць}\n",
    "    - `Yes`\n",
    "- `InflClass` {Спражэнне}\n",
    "    - `1c` - 1 conjugation type {першае}\n",
    "    - `2c` - 2 conjugation type {другое}\n",
    "    - `Com` - combined type {рознаспрагальны}\n",
    "\n",
    "NCorpus tag pattern | Notes | Feature | Value\n",
    "-|-|-|-\n",
    "`VI..` | = Intransitive | SubCat | Intr\n",
    "`VT..` | = Transitive | SubCat | Tran\n",
    "`V.M.` | = Imperfect aspect | Aspect | Imp\n",
    "`V.P.` | = Perfect aspect | Aspect | Perf\n",
    "`V.R.` | = Reflexive | Reflex | Yes\n",
    "`V..1` | = 1 conjugation type | InflClass | 1c\n",
    "`V..2` | = 2 conjugation type | InflClass | 2c\n",
    "`V..3` | = combined conjugation type | InflClass | Com"
   ]
  },
  {
   "cell_type": "markdown",
   "id": "8705fba0-bf24-4be3-a06f-2615c44d4632",
   "metadata": {},
   "source": [
    "### `Form` tag"
   ]
  },
  {
   "cell_type": "code",
   "execution_count": 207,
   "id": "39460c95-aed8-40bc-b311-fa02a08b79e5",
   "metadata": {},
   "outputs": [
    {
     "name": "stdout",
     "output_type": "stream",
     "text": [
      "['0', 'F1P', 'F1S', 'F2P', 'F2S', 'F3P', 'F3S', 'I2P', 'I2S', 'PFS', 'PG', 'PMS', 'PNS', 'PXP', 'R1P', 'R1S', 'R2P', 'R2S', 'R3P', 'R3S', 'RG']\n"
     ]
    }
   ],
   "source": [
    "alltags['V']['fortags'].sort()\n",
    "print(alltags['V']['fortags'])"
   ]
  },
  {
   "cell_type": "markdown",
   "id": "6c016549-9e6e-4234-a9c5-492816a6a040",
   "metadata": {},
   "source": [
    "Features:\n",
    "- `Tense` {Час}\n",
    "    - `Past` - past {прошлы}\n",
    "    - `Pres` - present {цяперашні}\n",
    "    - `Fut` - future {будучы}\n",
    "- `Mood` {Лад}\n",
    "    - `Imp` - imperative {загадны}\n",
    "- `VerbForm` {Форма}\n",
    "    - `Inf` - infinitive {Інфінітыў}\n",
    "    - `Conv` - converb/transgressive {дзеепрыслоўе}\n",
    "- `Gender` {Род}\n",
    "    - `Fem`- feminine {жаночы}\n",
    "    - `Masc` - masculine {мужчынскі}\n",
    "    - `Neut` - neutral {ніякі}\n",
    "- `Person` {Асоба}\n",
    "    - `1` - first {першая}\n",
    "    - `2` - second {другая}\n",
    "    - `3` - third {трэцяя}\n",
    "- `Number` {Лік}\n",
    "    - `Sing` - singular {адзіночны}\n",
    "    - `Plur` - plural {множны}\n",
    " \n",
    "NCorpus tag pattern | Notes | Feature | Value\n",
    "-|-|-|-\n",
    "`0` | = Infinitive | VerbForm | Inf\n",
    "`I..` | = Imperative | Mood | Imp\n",
    "`F..` | = Future tense | Tense | Fut\n",
    "`P..` | = Past tense | Tense | Past\n",
    "`R..` | = Present tense | Tense | Pres\n",
    "`.1.` | = 1st person | Person | 1\n",
    "`.2.` | = 2nd person | Person | 2\n",
    "`.3.` | = 3rd person | Person | 3\n",
    "`..P` | = Plural | Number | Plur\n",
    "`..S` | = Singular | Number | Sing\n",
    "`.G` | = Converb/Transgressive | VerbForm | Conv"
   ]
  },
  {
   "cell_type": "markdown",
   "id": "62e698ba-8cf8-4a11-b790-e62c870dada3",
   "metadata": {},
   "source": [
    "## Interjections"
   ]
  },
  {
   "cell_type": "markdown",
   "id": "2c36c957-c06e-4a8e-a106-f8230e5f4e64",
   "metadata": {},
   "source": [
    "- POS value: `INTJ` - interjection {выклічнік}\n",
    "- Files: `Y.xml`\n",
    "\n",
    "No features"
   ]
  },
  {
   "cell_type": "code",
   "execution_count": 208,
   "id": "4c8f1623-45c9-4395-938c-53f16c8daea8",
   "metadata": {},
   "outputs": [
    {
     "name": "stdout",
     "output_type": "stream",
     "text": [
      "{'partags': ['Y'], 'fortags': ['']}\n"
     ]
    }
   ],
   "source": [
    "print(alltags['Y'])"
   ]
  }
 ],
 "metadata": {
  "kernelspec": {
   "display_name": "Python 3 (ipykernel)",
   "language": "python",
   "name": "python3"
  },
  "language_info": {
   "codemirror_mode": {
    "name": "ipython",
    "version": 3
   },
   "file_extension": ".py",
   "mimetype": "text/x-python",
   "name": "python",
   "nbconvert_exporter": "python",
   "pygments_lexer": "ipython3",
   "version": "3.12.3"
  }
 },
 "nbformat": 4,
 "nbformat_minor": 5
}
